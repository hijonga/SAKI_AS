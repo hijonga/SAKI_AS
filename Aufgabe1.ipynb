{
 "cells": [
  {
   "cell_type": "markdown",
   "metadata": {},
   "source": [
    "# Adorsys  \n"
   ]
  },
  {
   "cell_type": "markdown",
   "metadata": {},
   "source": [
    "## Setup and import data"
   ]
  },
  {
   "cell_type": "code",
   "execution_count": 1,
   "metadata": {},
   "outputs": [],
   "source": [
    "import pandas as pd\n",
    "import matplotlib.pyplot as plt\n",
    "import numpy as np\n",
    "from sklearn.metrics import confusion_matrix\n",
    "from sklearn.utils.multiclass import unique_labels\n",
    "from sklearn.naive_bayes import MultinomialNB\n",
    "from sklearn.naive_bayes import BernoulliNB"
   ]
  },
  {
   "cell_type": "code",
   "execution_count": 2,
   "metadata": {},
   "outputs": [],
   "source": [
    "data = pd.read_table('data/Exercise1.csv',sep=';')\n",
    "label_name = ['finance', 'income', 'leisure', 'living', 'private', 'standardOfLiving']"
   ]
  },
  {
   "cell_type": "code",
   "execution_count": 3,
   "metadata": {
    "scrolled": true
   },
   "outputs": [
    {
     "data": {
      "text/html": [
       "<div>\n",
       "<style scoped>\n",
       "    .dataframe tbody tr th:only-of-type {\n",
       "        vertical-align: middle;\n",
       "    }\n",
       "\n",
       "    .dataframe tbody tr th {\n",
       "        vertical-align: top;\n",
       "    }\n",
       "\n",
       "    .dataframe thead th {\n",
       "        text-align: right;\n",
       "    }\n",
       "</style>\n",
       "<table border=\"1\" class=\"dataframe\">\n",
       "  <thead>\n",
       "    <tr style=\"text-align: right;\">\n",
       "      <th></th>\n",
       "      <th>Unnamed: 0</th>\n",
       "      <th>Auftragskonto</th>\n",
       "      <th>Buchungstag</th>\n",
       "      <th>Valutadatum</th>\n",
       "      <th>Buchungstext</th>\n",
       "      <th>Verwendungszweck</th>\n",
       "      <th>Beguenstigter/Zahlungspflichtiger</th>\n",
       "      <th>Kontonummer</th>\n",
       "      <th>BLZ</th>\n",
       "      <th>Betrag</th>\n",
       "      <th>Waehrung</th>\n",
       "      <th>label</th>\n",
       "    </tr>\n",
       "  </thead>\n",
       "  <tbody>\n",
       "    <tr>\n",
       "      <th>0</th>\n",
       "      <td>0</td>\n",
       "      <td>89990201.0</td>\n",
       "      <td>28.07.2016</td>\n",
       "      <td>28.07.2016</td>\n",
       "      <td>Lohn / Gehalt</td>\n",
       "      <td>Gehalt Adorsys GmbH &amp; Co. KG End-To-End-Ref.: ...</td>\n",
       "      <td>Adorsys GmbH &amp; Co. KG</td>\n",
       "      <td>7807800780</td>\n",
       "      <td>25190001</td>\n",
       "      <td>2000.00</td>\n",
       "      <td>EUR</td>\n",
       "      <td>income</td>\n",
       "    </tr>\n",
       "    <tr>\n",
       "      <th>1</th>\n",
       "      <td>1</td>\n",
       "      <td>89990201.0</td>\n",
       "      <td>27.07.2016</td>\n",
       "      <td>27.07.2016</td>\n",
       "      <td>Miete</td>\n",
       "      <td>Byladem1Sbt De12773501123456789889 Miete Beuth...</td>\n",
       "      <td>Georg Tasche</td>\n",
       "      <td>DE31251900019123456780</td>\n",
       "      <td>VOHADE2HXXX</td>\n",
       "      <td>-670.00</td>\n",
       "      <td>EUR</td>\n",
       "      <td>living</td>\n",
       "    </tr>\n",
       "    <tr>\n",
       "      <th>2</th>\n",
       "      <td>2</td>\n",
       "      <td>89990201.0</td>\n",
       "      <td>21.07.2016</td>\n",
       "      <td>21.07.2016</td>\n",
       "      <td>Bargeld</td>\n",
       "      <td>21.07/16.34Uhr Nuernberg All Eur 70,00 Geb.Eur...</td>\n",
       "      <td>Bargeld</td>\n",
       "      <td>9999900780</td>\n",
       "      <td>25190001</td>\n",
       "      <td>-70.00</td>\n",
       "      <td>EUR</td>\n",
       "      <td>private</td>\n",
       "    </tr>\n",
       "    <tr>\n",
       "      <th>3</th>\n",
       "      <td>3</td>\n",
       "      <td>89990201.0</td>\n",
       "      <td>20.07.2016</td>\n",
       "      <td>20.07.2016</td>\n",
       "      <td>Lebensmittel / Getraenke</td>\n",
       "      <td>2831 Edeka Neubauer Nuernb.//Nuernb 2016-07-20...</td>\n",
       "      <td>Kartenzahlung</td>\n",
       "      <td>9736000780</td>\n",
       "      <td>25190001</td>\n",
       "      <td>-73.21</td>\n",
       "      <td>EUR</td>\n",
       "      <td>standardOfLiving</td>\n",
       "    </tr>\n",
       "    <tr>\n",
       "      <th>4</th>\n",
       "      <td>4</td>\n",
       "      <td>89990201.0</td>\n",
       "      <td>18.07.2016</td>\n",
       "      <td>18.07.2016</td>\n",
       "      <td>Spontanausgabe</td>\n",
       "      <td>Amazon</td>\n",
       "      <td>neue Playstation</td>\n",
       "      <td>9988776655</td>\n",
       "      <td>25125100</td>\n",
       "      <td>-363</td>\n",
       "      <td>EUR</td>\n",
       "      <td>leisure</td>\n",
       "    </tr>\n",
       "  </tbody>\n",
       "</table>\n",
       "</div>"
      ],
      "text/plain": [
       "   Unnamed: 0  Auftragskonto Buchungstag Valutadatum  \\\n",
       "0           0     89990201.0  28.07.2016  28.07.2016   \n",
       "1           1     89990201.0  27.07.2016  27.07.2016   \n",
       "2           2     89990201.0  21.07.2016  21.07.2016   \n",
       "3           3     89990201.0  20.07.2016  20.07.2016   \n",
       "4           4     89990201.0  18.07.2016  18.07.2016   \n",
       "\n",
       "               Buchungstext  \\\n",
       "0             Lohn / Gehalt   \n",
       "1                     Miete   \n",
       "2                   Bargeld   \n",
       "3  Lebensmittel / Getraenke   \n",
       "4            Spontanausgabe   \n",
       "\n",
       "                                    Verwendungszweck  \\\n",
       "0  Gehalt Adorsys GmbH & Co. KG End-To-End-Ref.: ...   \n",
       "1  Byladem1Sbt De12773501123456789889 Miete Beuth...   \n",
       "2  21.07/16.34Uhr Nuernberg All Eur 70,00 Geb.Eur...   \n",
       "3  2831 Edeka Neubauer Nuernb.//Nuernb 2016-07-20...   \n",
       "4                                             Amazon   \n",
       "\n",
       "  Beguenstigter/Zahlungspflichtiger             Kontonummer          BLZ  \\\n",
       "0             Adorsys GmbH & Co. KG              7807800780     25190001   \n",
       "1                      Georg Tasche  DE31251900019123456780  VOHADE2HXXX   \n",
       "2                           Bargeld              9999900780     25190001   \n",
       "3                     Kartenzahlung              9736000780     25190001   \n",
       "4                  neue Playstation              9988776655     25125100   \n",
       "\n",
       "    Betrag Waehrung             label  \n",
       "0  2000.00      EUR            income  \n",
       "1  -670.00      EUR            living  \n",
       "2   -70.00      EUR           private  \n",
       "3   -73.21      EUR  standardOfLiving  \n",
       "4     -363      EUR           leisure  "
      ]
     },
     "execution_count": 3,
     "metadata": {},
     "output_type": "execute_result"
    }
   ],
   "source": [
    "data.head()"
   ]
  },
  {
   "cell_type": "code",
   "execution_count": 4,
   "metadata": {
    "scrolled": true
   },
   "outputs": [],
   "source": [
    "# Define the documents\n",
    "documents = data[['Buchungstext', 'Verwendungszweck', 'Beguenstigter/Zahlungspflichtiger']]. \\\n",
    "    apply(lambda x: ' '.join(x), axis=1)\n",
    "# Import the count vectorizer and initialize it\n",
    "from sklearn.feature_extraction.text import CountVectorizer\n",
    "count_vector = CountVectorizer()\n",
    "\n",
    "count_vector.fit(documents)\n",
    "names = count_vector.get_feature_names()\n",
    "doc_array = count_vector.transform(documents).toarray()\n",
    "frequency_matrix = pd.DataFrame(data=doc_array, columns=names)\n"
   ]
  },
  {
   "cell_type": "markdown",
   "metadata": {},
   "source": [
    "## Split data in testing and training set"
   ]
  },
  {
   "cell_type": "code",
   "execution_count": 5,
   "metadata": {},
   "outputs": [],
   "source": [
    "# split into training and testing sets\n",
    "from sklearn.model_selection import train_test_split\n",
    "X_train, X_test, y_train, y_test = train_test_split(documents, data[\"label\"], train_size=0.7, test_size=0.3, random_state=1)\n"
   ]
  },
  {
   "cell_type": "markdown",
   "metadata": {},
   "source": [
    "## Vectorize the data "
   ]
  },
  {
   "cell_type": "code",
   "execution_count": 6,
   "metadata": {},
   "outputs": [
    {
     "name": "stdout",
     "output_type": "stream",
     "text": [
      "['00', '000', '0000000000', '001', '0084632', '00eur0', '01', '016', '0164378887929309', '01e', '01t06', '01t11', '01t17', '02', '02t13', '02t14', '02t22', '03', '03t12', '03t16', '04', '04t17', '05', '0580631', '05t09', '05t23', '06', '07', '07folgenr', '08', '09', '09t07', '09t17', '10', '100', '10103084736793zalando', '10316011', '10355311', '10355735', '10355969', '10355999', '10t17', '11', '1137', '116', '12', '12272140', '122721405', '13', '14', '140', '14t12', '15', '150244534', '150251073', '150257651', '15t17', '16', '161080109883418', '1612', '162146', '1637782719640441', '16t17', '17', '18', '18t21', '19', '19t17', '1u1', '20', '2001136', '201', '2016', '2020', '2099', '20t15', '20t17', '21', '22', '2202002154', '220200215414', '23', '23t13', '2410573888643087', '2411354884929964', '24t12', '25', '26', '27', '279', '27folgenr', '27t10', '27t11', '2831', '29', '30', '303', '30t14', '31', '317', '32', '320000042615', '33', '330000099057', '34439927', '34uhr', '35', '36', '37', '39', '40', '42', '42eur0', '43folgenr', '4488385', '45', '46400517', '48', '50', '51', '5104489', '52', '5339566', '535', '54', '54eur0', '54folgenr', '55', '551', '57', '58folgenr', '59', '6169917', '65128', '65354', '6620', '69', '70', '73eur0', '7483141', '798', '80eur0', '84eur0', '8794708', '91', '99eur0', 'abonnement', 'abschlag', 'abschluss', 'adorsys', 'aeu', 'ag', 'all', 'alld', 'amazon', 'ankenvers', 'anna', 'apotheke', 'aramark', 'atm', 'august', 'aus', 'ausland', 'auslandsrei', 'auszahlung', 'bank', 'bankhaus', 'bargeld', 'bears', 'belastung', 'beuthener', 'bil', 'bistro', 'blz76010085', 'breuninger', 'byladem1sbt', 'cafe', 'california', 'ccb', 'ccbade31xxx', 'christina', 'city', 'classic', 'co', 'company', 'dank', 'danke', 'dankt', 'dauerauftrag', 'de', 'de12773501123456789889', 'de41760501010012345675', 'de71310108339900123456', 'deco', 'deutsche', 'deutschland', 'digital', 'dm', 'drogerie', 'drogeriemarkt', 'edeka', 'eg', 'einfach', 'einmalsparen', 'einzahlung', 'einzugsermächtigung', 'elv56006914', 'elv56006915', 'elv56006917', 'elv66021447', 'end', 'erg', 'esso', 'eu', 'eur', 'euro', 'europe', 'euroscheck', 'fein', 'fil', 'folgenr', 'friends', 'ga', 'gaa', 'gas', 'gastro', 'gastst', 'gaststaette', 'geb', 'gehalt', 'geldanlage', 'georg', 'getraenke', 'gmb', 'gmbh', 'gries', 'gruenstrom', 'gt', 'gutschrift', 'haushalt', 'hoefe', 'hs', 'humanic', 'icherung', 'im', 'interne', 'intersport', 'isabel', 'issuer', 'jung', 'k358853507', 'karolinen', 'kartenzahlung', 'kd', 'kfn', 'kg', 'koestr', 'koffer', 'kundenreferenz', 'lastschrift', 'ld', 'lebensmittel', 'lenz', 'lld', 'lohn', 'lucas', 'mango', 'marketplace', 'maxx', 'me11', 'me1rewe', 'michael', 'miete', 'mieteinnahmen', 'mietzuschuss', 'mktplce', 'moda', 'neubauer', 'notprovided', 'nr', 'nr55508568', 'nsct1603080001510000000000000000006', 'nsct1603300013660000000000000000001', 'nuernb', 'nuernber', 'nuernberg', 'nuremberg', 'nürnberg', 'payments', 'pulsnitz', 're', 'ref', 'reit', 'rent', 'rente', 'rewe', 'rfalld', 'rg', 'roethenbach', 'rse', 'sa', 'sagt', 'se', 'sebalder', 'sekr', 'seon', 'skyline', 'sparen', 'sparkasse', 'spdude68xxx', 'ssknde77xxx', 'str', 'strom', 'stromio', 't19', 'tasche', 'teambank', 'telecom', 'ticket', 'tk', 'to', 'travelsecure', 'ts', 'u1', 'ue', 'ueberweisung', 'umbuchung', 'urlaub', 'vag', 've', 'veranst', 'verf', 'verfa', 'verfal', 'verfall', 'verfalld', 'vero', 'versicherungs', 'video', 'vielen', 'visa6218501306060876', 'visa62185013800', 'visa62185013amazon', 'visa62185013nuernberg', 'visa6218502106060876', 'visa62185021800', 'visa62185021amazon', 'visa62185021nbg', 'visa62185021rathaus', 'visa62185021schnieglin', 'vj', 'vk', 'vr', 'wie', 'winkl', 'wuerzburger', 'zalando', 'überweisung']\n"
     ]
    }
   ],
   "source": [
    "# Instantiate the CountVectorizer method\n",
    "count_vector = CountVectorizer()\n",
    "# Fit the training data and then return the matrix\n",
    "training_data = count_vector.fit_transform(X_train)\n",
    "# Transform testing data and return the matrix. Note: not fitting the testing data into the CountVectorizer()\n",
    "testing_data = count_vector.transform(X_test)\n",
    "\n",
    "print(count_vector.get_feature_names())\n",
    "\n"
   ]
  },
  {
   "cell_type": "markdown",
   "metadata": {},
   "source": [
    "## Get to know the data"
   ]
  },
  {
   "cell_type": "code",
   "execution_count": 7,
   "metadata": {},
   "outputs": [
    {
     "data": {
      "image/png": "[encoded data removed]",
      "text/plain": [
       "<Figure size 432x288 with 3 Axes>"
      ]
     },
     "metadata": {},
     "output_type": "display_data"
    }
   ],
   "source": [
    "plt.subplot(1, 3, 1)\n",
    "data['label'].value_counts().plot(kind='bar')\n",
    "plt.title(\"Labels - Original\")\n",
    "\n",
    "plt.subplot(1, 3, 2)\n",
    "y_train.value_counts().plot(kind='bar')\n",
    "plt.title(\"Labels - Training\")\n",
    "\n",
    "plt.subplot(1, 3, 3)\n",
    "y_test.value_counts().plot(kind='bar')\n",
    "plt.title(\"Labels - Testing\")\n",
    "plt.tight_layout()\n",
    "plt.show()"
   ]
  },
  {
   "cell_type": "markdown",
   "metadata": {},
   "source": [
    "## Apply Naive Bayes"
   ]
  },
  {
   "cell_type": "code",
   "execution_count": 8,
   "metadata": {},
   "outputs": [],
   "source": [
    "naive_bayes = MultinomialNB()\n",
    "naive_bayes.fit(training_data, y_train)\n",
    "\n",
    "prediction = naive_bayes.predict(testing_data)"
   ]
  },
  {
   "cell_type": "markdown",
   "metadata": {},
   "source": [
    "## Evaluation"
   ]
  },
  {
   "cell_type": "code",
   "execution_count": 9,
   "metadata": {},
   "outputs": [
    {
     "name": "stdout",
     "output_type": "stream",
     "text": [
      "Accuracy score:  0.9365079365079365\n"
     ]
    }
   ],
   "source": [
    "\n",
    "from sklearn.metrics import accuracy_score\n",
    "print('Accuracy score: ', format(accuracy_score(y_test, prediction)))"
   ]
  },
  {
   "cell_type": "code",
   "execution_count": 10,
   "metadata": {
    "scrolled": false
   },
   "outputs": [
    {
     "name": "stdout",
     "output_type": "stream",
     "text": [
      "                  precision    recall  f1-score   support\n",
      "\n",
      "         finance       1.00      0.92      0.96        12\n",
      "          income       1.00      1.00      1.00         7\n",
      "         leisure       0.84      1.00      0.91        16\n",
      "          living       0.80      0.80      0.80         5\n",
      "         private       1.00      0.88      0.93         8\n",
      "standardOfLiving       1.00      0.93      0.97        15\n",
      "\n",
      "     avg / total       0.94      0.94      0.94        63\n",
      "\n"
     ]
    }
   ],
   "source": [
    "from sklearn.metrics import classification_report\n",
    "print(classification_report(y_test, prediction, target_names = label_name))"
   ]
  },
  {
   "cell_type": "code",
   "execution_count": 11,
   "metadata": {
    "scrolled": false
   },
   "outputs": [
    {
     "name": "stdout",
     "output_type": "stream",
     "text": [
      "Automatically created module for IPython interactive environment\n",
      "Confusion matrix, without normalization\n",
      "[[11  0  1  0  0  0]\n",
      " [ 0  7  0  0  0  0]\n",
      " [ 0  0 16  0  0  0]\n",
      " [ 0  0  1  4  0  0]\n",
      " [ 0  0  0  1  7  0]\n",
      " [ 0  0  1  0  0 14]]\n",
      "Normalized confusion matrix\n",
      "[[0.92 0.   0.08 0.   0.   0.  ]\n",
      " [0.   1.   0.   0.   0.   0.  ]\n",
      " [0.   0.   1.   0.   0.   0.  ]\n",
      " [0.   0.   0.2  0.8  0.   0.  ]\n",
      " [0.   0.   0.   0.12 0.88 0.  ]\n",
      " [0.   0.   0.07 0.   0.   0.93]]\n"
     ]
    },
    {
     "data": {
      "image/png": "[encoded data removed]",
      "text/plain": [
       "<Figure size 432x288 with 2 Axes>"
      ]
     },
     "metadata": {},
     "output_type": "display_data"
    },
    {
     "data": {
      "image/png": "[encoded data removed]",
      "text/plain": [
       "<Figure size 432x288 with 2 Axes>"
      ]
     },
     "metadata": {},
     "output_type": "display_data"
    }
   ],
   "source": [
    "print(__doc__)\n",
    "\n",
    "\n",
    "class_names = data[\"label\"]\n",
    "\n",
    "\n",
    "def plot_confusion_matrix(y_true, y_pred, classes, normalize=False, title=None, cmap=plt.cm.Blues):\n",
    "    if not title:\n",
    "        if normalize:\n",
    "            title = 'Normalized confusion matrix'\n",
    "        else:\n",
    "            title = 'Confusion matrix, without normalization'\n",
    "    # Compute confusion matrix\n",
    "    cm = confusion_matrix(y_true, y_pred)\n",
    "    # Only use the labels that appear in the data\n",
    "    classes = list(unique_labels(y_true, y_pred))\n",
    "    if normalize:\n",
    "        cm = cm.astype('float') / cm.sum(axis=1)[:, np.newaxis]\n",
    "        print(\"Normalized confusion matrix\")\n",
    "    else:\n",
    "        print('Confusion matrix, without normalization')\n",
    "\n",
    "    print(cm)\n",
    "\n",
    "    fig, ax = plt.subplots()\n",
    "    im = ax.imshow(cm, interpolation='nearest', cmap=cmap)\n",
    "    ax.figure.colorbar(im, ax=ax)\n",
    "    # We want to show all ticks...\n",
    "    ax.set(xticks=np.arange(cm.shape[1]),\n",
    "           yticks=np.arange(cm.shape[0]),\n",
    "           # ... and label them with the respective list entries\n",
    "           xticklabels=classes, yticklabels=classes,\n",
    "           title=title,\n",
    "           ylabel='True label',\n",
    "           xlabel='Predicted label')\n",
    "\n",
    "    # Rotate the tick labels and set their alignment.\n",
    "    plt.setp(ax.get_xticklabels(), rotation=45, ha=\"right\",\n",
    "             rotation_mode=\"anchor\")\n",
    "\n",
    "    # Loop over data dimensions and create text annotations.\n",
    "    fmt = '.2f' if normalize else 'd'\n",
    "    thresh = cm.max() / 2.\n",
    "    for i in range(cm.shape[0]):\n",
    "        for j in range(cm.shape[1]):\n",
    "            ax.text(j, i, format(cm[i, j], fmt),\n",
    "                    ha=\"center\", va=\"center\",\n",
    "                    color=\"white\" if cm[i, j] > thresh else \"black\")\n",
    "    fig.tight_layout()\n",
    "    return ax\n",
    "\n",
    "\n",
    "np.set_printoptions(precision=2)\n",
    "\n",
    "# Plot non-normalized confusion matrix\n",
    "conf_matr = plot_confusion_matrix(y_test, prediction, classes=label_name,\n",
    "                      title='Confusion matrix, without normalization')\n",
    "\n",
    "# Plot normalized confusion matrix\n",
    "plot_confusion_matrix(y_test,prediction, classes=label_name, normalize=True,\n",
    "                      title='Normalized confusion matrix')\n",
    "\n",
    "plt.show()"
   ]
  }
 ],
 "metadata": {
  "kernelspec": {
   "display_name": "Python 3",
   "language": "python",
   "name": "python3"
  },
  "language_info": {
   "codemirror_mode": {
    "name": "ipython",
    "version": 3
   },
   "file_extension": ".py",
   "mimetype": "text/x-python",
   "name": "python",
   "nbconvert_exporter": "python",
   "pygments_lexer": "ipython3",
   "version": "3.6.5"
  }
 },
 "nbformat": 4,
 "nbformat_minor": 2
}
